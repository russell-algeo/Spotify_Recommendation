{
 "cells": [
  {
   "cell_type": "code",
   "execution_count": 1,
   "metadata": {},
   "outputs": [],
   "source": [
    "import os\n",
    "import csv\n",
    "import utils\n",
    "import pandas as pd\n",
    "import spotipy"
   ]
  },
  {
   "cell_type": "markdown",
   "metadata": {},
   "source": [
    "# Extract Saved Tracks"
   ]
  },
  {
   "cell_type": "code",
   "execution_count": 2,
   "metadata": {
    "scrolled": false
   },
   "outputs": [],
   "source": [
    "def update_saved_tracks(path = 'output/saved_tracks.csv'):\n",
    "    '''\n",
    "    Updates saved tracks data by connecting to Spotify API to retrieve a user's saved tracks data.\n",
    "    Collects Spotify audio features as well as computing rich audio features on each track.\n",
    "    '''\n",
    "    \n",
    "    if os.path.exists(path):\n",
    "        \n",
    "        print('Recovering tracks...')\n",
    "    \n",
    "        saved_tracks = {}\n",
    "        with open(path) as csvFile:\n",
    "            csvReader = csv.DictReader(csvFile)\n",
    "            for rows in csvReader:\n",
    "                track_key = rows['track_key']\n",
    "                saved_tracks[track_key] = rows\n",
    "        number_existing_saved_tracks = len(saved_tracks)\n",
    "        \n",
    "        print(f'Recovered {number_existing_saved_tracks} saved tracks')\n",
    "    \n",
    "    else: \n",
    "        saved_tracks = {}\n",
    "    \n",
    "    print('Connecting to Spotify to aquire new saved tracks now...')\n",
    "    \n",
    "    token = utils.get_token()\n",
    "    sp = spotipy.Spotify(auth=token)\n",
    "    results = sp.current_user_saved_tracks() \n",
    "    \n",
    "    counter = 1\n",
    "    failed_counter = 0\n",
    "    track_counter = 0\n",
    "    ignition = True\n",
    "    \n",
    "    \n",
    "    while ignition:\n",
    "        if counter % 5 == 0:\n",
    "            token = utils.get_token()\n",
    "            sp = spotipy.Spotify(auth = token)\n",
    "            \n",
    "        for item in results['items']:\n",
    "            track = item['track']\n",
    "            track_name = track['name']\n",
    "            artist_name = track['artists'][0]['name']\n",
    "            track_key = track_name + '___' + artist_name\n",
    "\n",
    "            if track_key in saved_tracks:\n",
    "                if saved_tracks.get(track_key)['added_at'] == item['added_at']:\n",
    "                    ignition = False\n",
    "                    print(f'Reached overlap in saved songs: {track_name} by {artist_name}')\n",
    "                    break\n",
    "        \n",
    "            try:\n",
    "                track_dictionary = utils.create_track_dictionary(track, token)\n",
    "                track_dictionary['added_at'] = item['added_at']\n",
    "                rich_feats = utils.collect_rich_features(track_dictionary['preview_url'])\n",
    "                track_dictionary.update(rich_feats)\n",
    "                saved_tracks[track_key] = track_dictionary\n",
    "                track_counter += 1\n",
    "            except:\n",
    "                failed_counter += 1\n",
    "                \n",
    "                \n",
    "        ignition = ignition & bool(results['next'])\n",
    "        if ignition:\n",
    "            results = sp.next(results)\n",
    "        counter += 1\n",
    "    \n",
    "    number_saved_tracks = len(saved_tracks)\n",
    "    print('\\n')  \n",
    "    print(f'You added {track_counter} new tracks to your saved tracks since the last update!')\n",
    "    print(f'Your saved tracks are now comprised of {number_saved_tracks} unique tracks')\n",
    "    print(f'Overall, {failed_counter} saved tracks were unable to be identified')\n",
    "    print(f'{number_saved_tracks} out of {number_saved_tracks + failed_counter} saved tracks have been identified')\n",
    "    \n",
    "    print('\\n')   \n",
    "    percent_identified = (number_saved_tracks) / (number_saved_tracks + failed_counter)\n",
    "    percent_identified = round(percent_identified * 100, 2)\n",
    "    print(f'{percent_identified}% of saved tracks have been identified')\n",
    "    \n",
    "    saved_tracks_frame = pd.DataFrame.from_dict(saved_tracks, orient = 'index')\n",
    "    saved_tracks_frame.to_csv('output/saved_tracks.csv', index = False)"
   ]
  },
  {
   "cell_type": "code",
   "execution_count": 3,
   "metadata": {
    "scrolled": false
   },
   "outputs": [
    {
     "name": "stdout",
     "output_type": "stream",
     "text": [
      "Recovering tracks...\n",
      "Recovered 11038 saved tracks\n",
      "Connecting to Spotify to aquire new saved tracks now...\n",
      "Reached overlap in saved songs: Petu - Radio Edit by Palms Trax\n",
      "\n",
      "\n",
      "You added 51 new tracks to your saved tracks since the last update!\n",
      "Your saved tracks are now comprised of 11083 unique tracks\n",
      "Overall, 0 saved tracks were unable to be identified\n",
      "11083 out of 11083 saved tracks have been identified\n",
      "\n",
      "\n",
      "100.0% of saved tracks have been identified\n"
     ]
    }
   ],
   "source": [
    "update_saved_tracks()"
   ]
  }
 ],
 "metadata": {
  "kernelspec": {
   "display_name": "Python 3",
   "language": "python",
   "name": "python3"
  },
  "language_info": {
   "codemirror_mode": {
    "name": "ipython",
    "version": 3
   },
   "file_extension": ".py",
   "mimetype": "text/x-python",
   "name": "python",
   "nbconvert_exporter": "python",
   "pygments_lexer": "ipython3",
   "version": "3.8.5"
  }
 },
 "nbformat": 4,
 "nbformat_minor": 4
}
